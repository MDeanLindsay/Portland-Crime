{
 "cells": [
  {
   "cell_type": "code",
   "execution_count": 1,
   "id": "a153d005-eba4-4f8b-91da-109db3667dd7",
   "metadata": {},
   "outputs": [],
   "source": [
    "import pandas as pd\n",
    "import glob\n",
    "import os"
   ]
  },
  {
   "cell_type": "code",
   "execution_count": 2,
   "id": "d2d77180-aa02-41d8-9d62-7088eb97550c",
   "metadata": {},
   "outputs": [],
   "source": [
    "path = r'C:\\Users\\mdlin\\Documents\\Github\\Portland-Crime\\data'            "
   ]
  },
  {
   "cell_type": "code",
   "execution_count": 3,
   "id": "2f892824-9a41-48c4-80c1-b8135d6c5020",
   "metadata": {},
   "outputs": [],
   "source": [
    "# Grab all csvs from folder and concat into one dataframe.\n",
    "all_files = glob.glob(os.path.join(path, \"*.csv\"))\n",
    "df = pd.concat((pd.read_csv(f) for f in all_files), ignore_index=True)"
   ]
  },
  {
   "cell_type": "code",
   "execution_count": 4,
   "id": "fddbb362-7123-4fe7-a5a7-49d99d89e597",
   "metadata": {},
   "outputs": [],
   "source": [
    "# Convert ReportDate from object to DateTime so we can check min/max.\n",
    "df['ReportDate'] = pd.to_datetime(df['ReportDate'])\n",
    "df['OccurDate'] = pd.to_datetime(df['ReportDate'])\n",
    "\n",
    "df = df.sort_values(by='ReportDate', ascending=False)"
   ]
  },
  {
   "cell_type": "code",
   "execution_count": 5,
   "id": "5f0bb26b-a63a-46ee-bd20-5a0fd71b9ce7",
   "metadata": {},
   "outputs": [],
   "source": [
    "# Select columns that we want.\n",
    "\n",
    "df = df[['Address',\n",
    " 'CaseNumber',\n",
    " 'CrimeAgainst',\n",
    " 'Neighborhood',\n",
    " 'OccurDate',\n",
    " 'OccurTime',\n",
    " 'OffenseCategory',\n",
    " 'OffenseType',\n",
    " 'OpenDataLat',\n",
    " 'OpenDataLon',\n",
    " 'OpenDataX',\n",
    " 'OpenDataY',\n",
    " 'ReportDate',\n",
    " 'OffenseCount']]"
   ]
  },
  {
   "cell_type": "code",
   "execution_count": 6,
   "id": "abea7e37-d81f-46b8-b9b1-617605c45c62",
   "metadata": {},
   "outputs": [
    {
     "name": "stdout",
     "output_type": "stream",
     "text": [
      "Df Shape: (499915, 14)\n",
      "Min Date: 2015-05-01 00:00:00\n",
      "Max Date: 2023-06-30 00:00:00\n"
     ]
    }
   ],
   "source": [
    "# Check import size/dates.\n",
    "rows = str(df.shape)\n",
    "min = str(df['ReportDate'].min())\n",
    "max = str(df['ReportDate'].max())\n",
    "\n",
    "print (\"Df Shape: \" + rows + \"\\nMin Date: \" + min + \"\\nMax Date: \" + max)"
   ]
  },
  {
   "cell_type": "code",
   "execution_count": 7,
   "id": "466684f0-72ac-4df0-ad67-4e703a7b8930",
   "metadata": {},
   "outputs": [
    {
     "data": {
      "text/plain": [
       "Address                    object\n",
       "CaseNumber                 object\n",
       "CrimeAgainst               object\n",
       "Neighborhood               object\n",
       "OccurDate          datetime64[ns]\n",
       "OccurTime                   int64\n",
       "OffenseCategory            object\n",
       "OffenseType                object\n",
       "OpenDataLat               float64\n",
       "OpenDataLon               float64\n",
       "OpenDataX                 float64\n",
       "OpenDataY                 float64\n",
       "ReportDate         datetime64[ns]\n",
       "OffenseCount                int64\n",
       "dtype: object"
      ]
     },
     "execution_count": 7,
     "metadata": {},
     "output_type": "execute_result"
    }
   ],
   "source": [
    "df.dtypes"
   ]
  },
  {
   "cell_type": "code",
   "execution_count": 8,
   "id": "ae1c666e-4f66-48c7-bf07-bdb6ca764f4e",
   "metadata": {},
   "outputs": [
    {
     "data": {
      "text/html": [
       "<div>\n",
       "<style scoped>\n",
       "    .dataframe tbody tr th:only-of-type {\n",
       "        vertical-align: middle;\n",
       "    }\n",
       "\n",
       "    .dataframe tbody tr th {\n",
       "        vertical-align: top;\n",
       "    }\n",
       "\n",
       "    .dataframe thead th {\n",
       "        text-align: right;\n",
       "    }\n",
       "</style>\n",
       "<table border=\"1\" class=\"dataframe\">\n",
       "  <thead>\n",
       "    <tr style=\"text-align: right;\">\n",
       "      <th></th>\n",
       "      <th>Address</th>\n",
       "      <th>CaseNumber</th>\n",
       "      <th>CrimeAgainst</th>\n",
       "      <th>Neighborhood</th>\n",
       "      <th>OccurDate</th>\n",
       "      <th>OccurTime</th>\n",
       "      <th>OffenseCategory</th>\n",
       "      <th>OffenseType</th>\n",
       "      <th>OpenDataLat</th>\n",
       "      <th>OpenDataLon</th>\n",
       "      <th>OpenDataX</th>\n",
       "      <th>OpenDataY</th>\n",
       "      <th>ReportDate</th>\n",
       "      <th>OffenseCount</th>\n",
       "    </tr>\n",
       "  </thead>\n",
       "  <tbody>\n",
       "    <tr>\n",
       "      <th>491800</th>\n",
       "      <td>8800 BLOCK OF SE FLAVEL ST</td>\n",
       "      <td>23-171766</td>\n",
       "      <td>Property</td>\n",
       "      <td>Lents</td>\n",
       "      <td>2023-06-30</td>\n",
       "      <td>2100</td>\n",
       "      <td>Larceny Offenses</td>\n",
       "      <td>Theft From Motor Vehicle</td>\n",
       "      <td>45.468464</td>\n",
       "      <td>-122.572201</td>\n",
       "      <td>7670548.0</td>\n",
       "      <td>663706.0</td>\n",
       "      <td>2023-06-30</td>\n",
       "      <td>1</td>\n",
       "    </tr>\n",
       "    <tr>\n",
       "      <th>475141</th>\n",
       "      <td>800 BLOCK OF SW 4TH AVE</td>\n",
       "      <td>23-915199</td>\n",
       "      <td>Property</td>\n",
       "      <td>Downtown</td>\n",
       "      <td>2023-06-30</td>\n",
       "      <td>730</td>\n",
       "      <td>Larceny Offenses</td>\n",
       "      <td>Theft From Motor Vehicle</td>\n",
       "      <td>45.517507</td>\n",
       "      <td>-122.677045</td>\n",
       "      <td>7644142.0</td>\n",
       "      <td>682288.0</td>\n",
       "      <td>2023-06-30</td>\n",
       "      <td>1</td>\n",
       "    </tr>\n",
       "    <tr>\n",
       "      <th>475143</th>\n",
       "      <td>800 BLOCK OF SW 4TH AVE</td>\n",
       "      <td>23-915330</td>\n",
       "      <td>Property</td>\n",
       "      <td>Downtown</td>\n",
       "      <td>2023-06-30</td>\n",
       "      <td>1550</td>\n",
       "      <td>Vandalism</td>\n",
       "      <td>Vandalism</td>\n",
       "      <td>45.517507</td>\n",
       "      <td>-122.677045</td>\n",
       "      <td>7644142.0</td>\n",
       "      <td>682288.0</td>\n",
       "      <td>2023-06-30</td>\n",
       "      <td>1</td>\n",
       "    </tr>\n",
       "    <tr>\n",
       "      <th>497537</th>\n",
       "      <td>S GAINES ST / S CORBETT AVE</td>\n",
       "      <td>23-171939</td>\n",
       "      <td>Property</td>\n",
       "      <td>South Portland</td>\n",
       "      <td>2023-06-30</td>\n",
       "      <td>1654</td>\n",
       "      <td>Larceny Offenses</td>\n",
       "      <td>Purse-Snatching</td>\n",
       "      <td>45.496508</td>\n",
       "      <td>-122.675940</td>\n",
       "      <td>7644219.0</td>\n",
       "      <td>674627.0</td>\n",
       "      <td>2023-06-30</td>\n",
       "      <td>1</td>\n",
       "    </tr>\n",
       "    <tr>\n",
       "      <th>490845</th>\n",
       "      <td>7900 BLOCK OF SE ASPEN SUMMIT DR</td>\n",
       "      <td>23-915464</td>\n",
       "      <td>Property</td>\n",
       "      <td>Lents</td>\n",
       "      <td>2023-06-30</td>\n",
       "      <td>930</td>\n",
       "      <td>Motor Vehicle Theft</td>\n",
       "      <td>Motor Vehicle Theft</td>\n",
       "      <td>45.465672</td>\n",
       "      <td>-122.563022</td>\n",
       "      <td>7672876.0</td>\n",
       "      <td>662628.0</td>\n",
       "      <td>2023-06-30</td>\n",
       "      <td>1</td>\n",
       "    </tr>\n",
       "  </tbody>\n",
       "</table>\n",
       "</div>"
      ],
      "text/plain": [
       "                                 Address CaseNumber CrimeAgainst  \\\n",
       "491800        8800 BLOCK OF SE FLAVEL ST  23-171766     Property   \n",
       "475141           800 BLOCK OF SW 4TH AVE  23-915199     Property   \n",
       "475143           800 BLOCK OF SW 4TH AVE  23-915330     Property   \n",
       "497537       S GAINES ST / S CORBETT AVE  23-171939     Property   \n",
       "490845  7900 BLOCK OF SE ASPEN SUMMIT DR  23-915464     Property   \n",
       "\n",
       "          Neighborhood  OccurDate  OccurTime      OffenseCategory  \\\n",
       "491800           Lents 2023-06-30       2100     Larceny Offenses   \n",
       "475141        Downtown 2023-06-30        730     Larceny Offenses   \n",
       "475143        Downtown 2023-06-30       1550            Vandalism   \n",
       "497537  South Portland 2023-06-30       1654     Larceny Offenses   \n",
       "490845           Lents 2023-06-30        930  Motor Vehicle Theft   \n",
       "\n",
       "                     OffenseType  OpenDataLat  OpenDataLon  OpenDataX  \\\n",
       "491800  Theft From Motor Vehicle    45.468464  -122.572201  7670548.0   \n",
       "475141  Theft From Motor Vehicle    45.517507  -122.677045  7644142.0   \n",
       "475143                 Vandalism    45.517507  -122.677045  7644142.0   \n",
       "497537           Purse-Snatching    45.496508  -122.675940  7644219.0   \n",
       "490845       Motor Vehicle Theft    45.465672  -122.563022  7672876.0   \n",
       "\n",
       "        OpenDataY ReportDate  OffenseCount  \n",
       "491800   663706.0 2023-06-30             1  \n",
       "475141   682288.0 2023-06-30             1  \n",
       "475143   682288.0 2023-06-30             1  \n",
       "497537   674627.0 2023-06-30             1  \n",
       "490845   662628.0 2023-06-30             1  "
      ]
     },
     "execution_count": 8,
     "metadata": {},
     "output_type": "execute_result"
    }
   ],
   "source": [
    "df.head()"
   ]
  },
  {
   "cell_type": "code",
   "execution_count": 9,
   "id": "a0eddfd4-5326-47ee-a000-c9c252bbf7d3",
   "metadata": {},
   "outputs": [],
   "source": [
    "df.to_csv('./output/output.csv', sep='\\t', encoding='utf-8')"
   ]
  }
 ],
 "metadata": {
  "kernelspec": {
   "display_name": "Python 3 (ipykernel)",
   "language": "python",
   "name": "python3"
  },
  "language_info": {
   "codemirror_mode": {
    "name": "ipython",
    "version": 3
   },
   "file_extension": ".py",
   "mimetype": "text/x-python",
   "name": "python",
   "nbconvert_exporter": "python",
   "pygments_lexer": "ipython3",
   "version": "3.11.4"
  }
 },
 "nbformat": 4,
 "nbformat_minor": 5
}
