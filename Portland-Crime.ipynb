{
 "cells": [
  {
   "cell_type": "code",
   "execution_count": 1,
   "id": "a153d005-eba4-4f8b-91da-109db3667dd7",
   "metadata": {},
   "outputs": [],
   "source": [
    "import pandas as pd\n",
    "import glob\n",
    "import os"
   ]
  },
  {
   "cell_type": "code",
   "execution_count": 2,
   "id": "d2d77180-aa02-41d8-9d62-7088eb97550c",
   "metadata": {},
   "outputs": [],
   "source": [
    "path = r'C:\\Users\\mdlin\\Documents\\Github\\Portland-Crime\\data'            "
   ]
  },
  {
   "cell_type": "code",
   "execution_count": 3,
   "id": "2f892824-9a41-48c4-80c1-b8135d6c5020",
   "metadata": {},
   "outputs": [],
   "source": [
    "# Grab all csvs from folder and concat into one dataframe.\n",
    "all_files = glob.glob(os.path.join(path, \"*.csv\"))\n",
    "df = pd.concat((pd.read_csv(f) for f in all_files), ignore_index=True)"
   ]
  },
  {
   "cell_type": "code",
   "execution_count": 4,
   "id": "fddbb362-7123-4fe7-a5a7-49d99d89e597",
   "metadata": {},
   "outputs": [],
   "source": [
    "# Convert ReportDate from object to DateTime so we can check min/max.\n",
    "df['ReportDate'] = pd.to_datetime(df['ReportDate'])\n",
    "df['OccurDate'] = pd.to_datetime(df['ReportDate'])"
   ]
  },
  {
   "cell_type": "code",
   "execution_count": 5,
   "id": "5f0bb26b-a63a-46ee-bd20-5a0fd71b9ce7",
   "metadata": {},
   "outputs": [],
   "source": [
    "# Select columns that we want.\n",
    "\n",
    "df = df[['Address',\n",
    " 'CaseNumber',\n",
    " 'CrimeAgainst',\n",
    " 'Neighborhood',\n",
    " 'OccurDate',\n",
    " 'OccurTime',\n",
    " 'OffenseCategory',\n",
    " 'OffenseType',\n",
    " 'OpenDataLat',\n",
    " 'OpenDataLon',\n",
    " 'OpenDataX',\n",
    " 'OpenDataY',\n",
    " 'ReportDate',\n",
    " 'OffenseCount']]"
   ]
  },
  {
   "cell_type": "code",
   "execution_count": 6,
   "id": "abea7e37-d81f-46b8-b9b1-617605c45c62",
   "metadata": {},
   "outputs": [
    {
     "name": "stdout",
     "output_type": "stream",
     "text": [
      "Df Shape: (499915, 14)\n",
      "Min Date: 2015-05-01 00:00:00\n",
      "Max Date: 2023-06-30 00:00:00\n"
     ]
    }
   ],
   "source": [
    "# Check import size/dates.\n",
    "rows = str(df.shape)\n",
    "min = str(df['ReportDate'].min())\n",
    "max = str(df['ReportDate'].max())\n",
    "\n",
    "print (\"Df Shape: \" + rows + \"\\nMin Date: \" + min + \"\\nMax Date: \" + max)"
   ]
  },
  {
   "cell_type": "code",
   "execution_count": 7,
   "id": "466684f0-72ac-4df0-ad67-4e703a7b8930",
   "metadata": {},
   "outputs": [
    {
     "data": {
      "text/plain": [
       "Address                    object\n",
       "CaseNumber                 object\n",
       "CrimeAgainst               object\n",
       "Neighborhood               object\n",
       "OccurDate          datetime64[ns]\n",
       "OccurTime                   int64\n",
       "OffenseCategory            object\n",
       "OffenseType                object\n",
       "OpenDataLat               float64\n",
       "OpenDataLon               float64\n",
       "OpenDataX                 float64\n",
       "OpenDataY                 float64\n",
       "ReportDate         datetime64[ns]\n",
       "OffenseCount                int64\n",
       "dtype: object"
      ]
     },
     "execution_count": 7,
     "metadata": {},
     "output_type": "execute_result"
    }
   ],
   "source": [
    "df.dtypes"
   ]
  },
  {
   "cell_type": "code",
   "execution_count": 8,
   "id": "ae1c666e-4f66-48c7-bf07-bdb6ca764f4e",
   "metadata": {},
   "outputs": [
    {
     "data": {
      "text/html": [
       "<div>\n",
       "<style scoped>\n",
       "    .dataframe tbody tr th:only-of-type {\n",
       "        vertical-align: middle;\n",
       "    }\n",
       "\n",
       "    .dataframe tbody tr th {\n",
       "        vertical-align: top;\n",
       "    }\n",
       "\n",
       "    .dataframe thead th {\n",
       "        text-align: right;\n",
       "    }\n",
       "</style>\n",
       "<table border=\"1\" class=\"dataframe\">\n",
       "  <thead>\n",
       "    <tr style=\"text-align: right;\">\n",
       "      <th></th>\n",
       "      <th>Address</th>\n",
       "      <th>CaseNumber</th>\n",
       "      <th>CrimeAgainst</th>\n",
       "      <th>Neighborhood</th>\n",
       "      <th>OccurDate</th>\n",
       "      <th>OccurTime</th>\n",
       "      <th>OffenseCategory</th>\n",
       "      <th>OffenseType</th>\n",
       "      <th>OpenDataLat</th>\n",
       "      <th>OpenDataLon</th>\n",
       "      <th>OpenDataX</th>\n",
       "      <th>OpenDataY</th>\n",
       "      <th>ReportDate</th>\n",
       "      <th>OffenseCount</th>\n",
       "    </tr>\n",
       "  </thead>\n",
       "  <tbody>\n",
       "    <tr>\n",
       "      <th>0</th>\n",
       "      <td>NaN</td>\n",
       "      <td>15-X197430</td>\n",
       "      <td>Person</td>\n",
       "      <td>Piedmont</td>\n",
       "      <td>2015-05-12</td>\n",
       "      <td>1400</td>\n",
       "      <td>Assault Offenses</td>\n",
       "      <td>Intimidation</td>\n",
       "      <td>NaN</td>\n",
       "      <td>NaN</td>\n",
       "      <td>NaN</td>\n",
       "      <td>NaN</td>\n",
       "      <td>2015-05-12</td>\n",
       "      <td>1</td>\n",
       "    </tr>\n",
       "    <tr>\n",
       "      <th>1</th>\n",
       "      <td>NaN</td>\n",
       "      <td>15-X4282999</td>\n",
       "      <td>Person</td>\n",
       "      <td>Buckman West</td>\n",
       "      <td>2015-05-01</td>\n",
       "      <td>2143</td>\n",
       "      <td>Assault Offenses</td>\n",
       "      <td>Simple Assault</td>\n",
       "      <td>NaN</td>\n",
       "      <td>NaN</td>\n",
       "      <td>NaN</td>\n",
       "      <td>NaN</td>\n",
       "      <td>2015-05-01</td>\n",
       "      <td>1</td>\n",
       "    </tr>\n",
       "    <tr>\n",
       "      <th>2</th>\n",
       "      <td>NaN</td>\n",
       "      <td>15-X4283033</td>\n",
       "      <td>Person</td>\n",
       "      <td>University Park</td>\n",
       "      <td>2015-05-01</td>\n",
       "      <td>1625</td>\n",
       "      <td>Assault Offenses</td>\n",
       "      <td>Simple Assault</td>\n",
       "      <td>NaN</td>\n",
       "      <td>NaN</td>\n",
       "      <td>NaN</td>\n",
       "      <td>NaN</td>\n",
       "      <td>2015-05-01</td>\n",
       "      <td>1</td>\n",
       "    </tr>\n",
       "    <tr>\n",
       "      <th>3</th>\n",
       "      <td>NaN</td>\n",
       "      <td>15-X4283218</td>\n",
       "      <td>Person</td>\n",
       "      <td>Madison South</td>\n",
       "      <td>2015-05-01</td>\n",
       "      <td>1820</td>\n",
       "      <td>Assault Offenses</td>\n",
       "      <td>Simple Assault</td>\n",
       "      <td>NaN</td>\n",
       "      <td>NaN</td>\n",
       "      <td>NaN</td>\n",
       "      <td>NaN</td>\n",
       "      <td>2015-05-01</td>\n",
       "      <td>1</td>\n",
       "    </tr>\n",
       "    <tr>\n",
       "      <th>4</th>\n",
       "      <td>NaN</td>\n",
       "      <td>15-X4283218</td>\n",
       "      <td>Person</td>\n",
       "      <td>Madison South</td>\n",
       "      <td>2015-05-01</td>\n",
       "      <td>1820</td>\n",
       "      <td>Kidnapping/Abduction</td>\n",
       "      <td>Kidnapping/Abduction</td>\n",
       "      <td>NaN</td>\n",
       "      <td>NaN</td>\n",
       "      <td>NaN</td>\n",
       "      <td>NaN</td>\n",
       "      <td>2015-05-01</td>\n",
       "      <td>1</td>\n",
       "    </tr>\n",
       "  </tbody>\n",
       "</table>\n",
       "</div>"
      ],
      "text/plain": [
       "  Address   CaseNumber CrimeAgainst     Neighborhood  OccurDate  OccurTime  \\\n",
       "0     NaN   15-X197430       Person         Piedmont 2015-05-12       1400   \n",
       "1     NaN  15-X4282999       Person     Buckman West 2015-05-01       2143   \n",
       "2     NaN  15-X4283033       Person  University Park 2015-05-01       1625   \n",
       "3     NaN  15-X4283218       Person    Madison South 2015-05-01       1820   \n",
       "4     NaN  15-X4283218       Person    Madison South 2015-05-01       1820   \n",
       "\n",
       "        OffenseCategory           OffenseType  OpenDataLat  OpenDataLon  \\\n",
       "0      Assault Offenses          Intimidation          NaN          NaN   \n",
       "1      Assault Offenses        Simple Assault          NaN          NaN   \n",
       "2      Assault Offenses        Simple Assault          NaN          NaN   \n",
       "3      Assault Offenses        Simple Assault          NaN          NaN   \n",
       "4  Kidnapping/Abduction  Kidnapping/Abduction          NaN          NaN   \n",
       "\n",
       "   OpenDataX  OpenDataY ReportDate  OffenseCount  \n",
       "0        NaN        NaN 2015-05-12             1  \n",
       "1        NaN        NaN 2015-05-01             1  \n",
       "2        NaN        NaN 2015-05-01             1  \n",
       "3        NaN        NaN 2015-05-01             1  \n",
       "4        NaN        NaN 2015-05-01             1  "
      ]
     },
     "execution_count": 8,
     "metadata": {},
     "output_type": "execute_result"
    }
   ],
   "source": [
    "df.head()"
   ]
  },
  {
   "cell_type": "code",
   "execution_count": 9,
   "id": "a0eddfd4-5326-47ee-a000-c9c252bbf7d3",
   "metadata": {},
   "outputs": [],
   "source": [
    "df.to_csv('./output/output.csv', sep='\\t', encoding='utf-8')"
   ]
  }
 ],
 "metadata": {
  "kernelspec": {
   "display_name": "Python 3 (ipykernel)",
   "language": "python",
   "name": "python3"
  },
  "language_info": {
   "codemirror_mode": {
    "name": "ipython",
    "version": 3
   },
   "file_extension": ".py",
   "mimetype": "text/x-python",
   "name": "python",
   "nbconvert_exporter": "python",
   "pygments_lexer": "ipython3",
   "version": "3.11.4"
  }
 },
 "nbformat": 4,
 "nbformat_minor": 5
}
